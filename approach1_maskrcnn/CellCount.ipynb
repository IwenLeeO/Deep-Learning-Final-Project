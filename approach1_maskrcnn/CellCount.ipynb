{
  "nbformat": 4,
  "nbformat_minor": 0,
  "metadata": {
    "kernelspec": {
      "display_name": "Python 3",
      "language": "python",
      "name": "python3"
    },
    "language_info": {
      "codemirror_mode": {
        "name": "ipython",
        "version": 3
      },
      "file_extension": ".py",
      "mimetype": "text/x-python",
      "name": "python",
      "nbconvert_exporter": "python",
      "pygments_lexer": "ipython3",
      "version": "3.6.9"
    },
    "toc": {
      "base_numbering": 1,
      "nav_menu": {},
      "number_sections": true,
      "sideBar": true,
      "skip_h1_title": false,
      "title_cell": "Table of Contents",
      "title_sidebar": "Contents",
      "toc_cell": false,
      "toc_position": {},
      "toc_section_display": true,
      "toc_window_display": false
    },
    "varInspector": {
      "cols": {
        "lenName": 16,
        "lenType": 16,
        "lenVar": 40
      },
      "kernels_config": {
        "python": {
          "delete_cmd_postfix": "",
          "delete_cmd_prefix": "del ",
          "library": "var_list.py",
          "varRefreshCmd": "print(var_dic_list())"
        },
        "r": {
          "delete_cmd_postfix": ") ",
          "delete_cmd_prefix": "rm(",
          "library": "var_list.r",
          "varRefreshCmd": "cat(var_dic_list()) "
        }
      },
      "types_to_exclude": [
        "module",
        "function",
        "builtin_function_or_method",
        "instance",
        "_Feature"
      ],
      "window_display": false
    },
    "colab": {
      "name": "CellCount.ipynb",
      "provenance": [],
      "collapsed_sections": []
    },
    "accelerator": "GPU"
  },
  "cells": [
    {
      "cell_type": "code",
      "metadata": {
        "id": "ocbtWuV6ub4n",
        "colab_type": "code",
        "outputId": "d858f346-5b30-4d2c-89e9-ea50f2a4e434",
        "colab": {
          "base_uri": "https://localhost:8080/",
          "height": 126
        }
      },
      "source": [
        "from google.colab import drive\n",
        "drive.mount('/content/drive')"
      ],
      "execution_count": 1,
      "outputs": [
        {
          "output_type": "stream",
          "text": [
            "Go to this URL in a browser: https://accounts.google.com/o/oauth2/auth?client_id=947318989803-6bn6qk8qdgf4n4g3pfee6491hc0brc4i.apps.googleusercontent.com&redirect_uri=urn%3aietf%3awg%3aoauth%3a2.0%3aoob&response_type=code&scope=email%20https%3a%2f%2fwww.googleapis.com%2fauth%2fdocs.test%20https%3a%2f%2fwww.googleapis.com%2fauth%2fdrive%20https%3a%2f%2fwww.googleapis.com%2fauth%2fdrive.photos.readonly%20https%3a%2f%2fwww.googleapis.com%2fauth%2fpeopleapi.readonly\n",
            "\n",
            "Enter your authorization code:\n",
            "··········\n",
            "Mounted at /content/drive\n"
          ],
          "name": "stdout"
        }
      ]
    },
    {
      "cell_type": "code",
      "metadata": {
        "id": "rvU63UekyHrD",
        "colab_type": "code",
        "outputId": "dfcd3a48-8938-49dc-850f-3c4ebaea59ca",
        "colab": {
          "base_uri": "https://localhost:8080/",
          "height": 195
        }
      },
      "source": [
        "!pip install libtiff\n",
        "##!pip install MRCNN"
      ],
      "execution_count": 2,
      "outputs": [
        {
          "output_type": "stream",
          "text": [
            "Collecting libtiff\n",
            "\u001b[?25l  Downloading https://files.pythonhosted.org/packages/18/8f/b844284d43d385c08967b25eb76f625a5f06490cc4680e17644587053756/libtiff-0.4.2.tar.gz (129kB)\n",
            "\r\u001b[K     |██▌                             | 10kB 31.4MB/s eta 0:00:01\r\u001b[K     |█████                           | 20kB 3.1MB/s eta 0:00:01\r\u001b[K     |███████▋                        | 30kB 4.2MB/s eta 0:00:01\r\u001b[K     |██████████                      | 40kB 3.0MB/s eta 0:00:01\r\u001b[K     |████████████▋                   | 51kB 3.3MB/s eta 0:00:01\r\u001b[K     |███████████████▏                | 61kB 3.9MB/s eta 0:00:01\r\u001b[K     |█████████████████▋              | 71kB 4.2MB/s eta 0:00:01\r\u001b[K     |████████████████████▏           | 81kB 4.5MB/s eta 0:00:01\r\u001b[K     |██████████████████████▊         | 92kB 5.1MB/s eta 0:00:01\r\u001b[K     |█████████████████████████▏      | 102kB 5.0MB/s eta 0:00:01\r\u001b[K     |███████████████████████████▊    | 112kB 5.0MB/s eta 0:00:01\r\u001b[K     |██████████████████████████████▎ | 122kB 5.0MB/s eta 0:00:01\r\u001b[K     |████████████████████████████████| 133kB 5.0MB/s \n",
            "\u001b[?25hBuilding wheels for collected packages: libtiff\n",
            "  Building wheel for libtiff (setup.py) ... \u001b[?25l\u001b[?25hdone\n",
            "  Created wheel for libtiff: filename=libtiff-0.4.2-cp36-cp36m-linux_x86_64.whl size=280198 sha256=fa35f0c749b59e18f60a765f7e8b22e7e39d1ebcddaa65e2ec8f1fea3bc423b1\n",
            "  Stored in directory: /root/.cache/pip/wheels/7c/ce/79/9c7115224f798f73bdbd2c23e06c6fa048adcca7041b9fd104\n",
            "Successfully built libtiff\n",
            "Installing collected packages: libtiff\n",
            "Successfully installed libtiff-0.4.2\n"
          ],
          "name": "stdout"
        }
      ]
    },
    {
      "cell_type": "code",
      "metadata": {
        "id": "V9Kfd0cczZUY",
        "colab_type": "code",
        "colab": {}
      },
      "source": [
        "%cd /content/drive/My\\ Drive/approach1_maskrcnn/Mask\\ RCNN\n",
        "!pwd"
      ],
      "execution_count": 0,
      "outputs": []
    },
    {
      "cell_type": "code",
      "metadata": {
        "ExecuteTime": {
          "end_time": "2020-04-15T21:09:15.022782Z",
          "start_time": "2020-04-15T21:09:02.480621Z"
        },
        "id": "p7Zk56QBuSs-",
        "colab_type": "code",
        "outputId": "34da9bed-dc1a-4e63-aee8-98d04c885831",
        "colab": {
          "base_uri": "https://localhost:8080/",
          "height": 35
        }
      },
      "source": [
        "## Set matplotlib backend\n",
        "# This has to be done before other importa that might\n",
        "# set it, but only if we're running in script mode\n",
        "# rather than being imported.\n",
        "'''\n",
        "if __name__ == '__main__':\n",
        "    import matplotlib\n",
        "    # Agg backend runs without a display\n",
        "    matplotlib.use('Agg')\n",
        "    import matplotlib.pyplot as plt\n",
        "'''\n",
        "import matplotlib.pyplot as plt\n",
        "import os\n",
        "import sys\n",
        "import json\n",
        "import datetime\n",
        "import xlrd\n",
        "import cv2\n",
        "import tensorflow as tf\n",
        "import numpy as np\n",
        "import skimage.io\n",
        "from imgaug import augmenters as iaa\n",
        "from libtiff import TIFF, TIFFfile\n",
        "\n",
        "# Root directory of the project\n",
        "ROOT_DIR = os.getcwd()\n",
        "\n",
        "# Directory to save logs and model checkpoints, if not provided\n",
        "# through the command line argument --logs\n",
        "DEFAULT_LOGS_DIR = os.path.join(ROOT_DIR, \"logs\")\n",
        "\n",
        "# Results directory\n",
        "# Save submission files here\n",
        "RESULTS_DIR = os.path.join(ROOT_DIR, \"results/cellcount/\")\n",
        "\n",
        "from MRCNN.config import Config\n",
        "import MRCNN.model as modellib\n",
        "from MRCNN import utils, visualize\n",
        "\n",
        "DataSize=100\n",
        "Validation_ratio=0.1\n",
        "Data_IDS=np.arange(1,DataSize+1,dtype=np.int16) \n",
        "VAL_IMAGE_IDS = np.random.choice(Data_IDS,size=np.int(Validation_ratio*DataSize),replace=False)\n",
        "VAL_IMAGE_IDS.sort()\n",
        "\n",
        "#####################################################\n",
        "#         Configuration\n",
        "#####################################################\n",
        "class CellCountConfig(Config):\n",
        "    NAME = 'CellCount'\n",
        "    \n",
        "    # Train on 1 GPU and 2 images per GPU.\n",
        "    GPU_COUNT = 1\n",
        "    IMAGES_PER_GPU = 1\n",
        "    \n",
        "    # Number of classes (including background)\n",
        "    NUM_CLASSES = 1 + 1 # Background + RedBloodCell\n",
        "    \n",
        "    # Don't exclude based on confidence. Since we have two classes\n",
        "    # then 0.5 is the minimum anyway as it picks between nucleus and BG\n",
        "    DETECTION_MIN_CONFIDENCE = 0\n",
        "    \n",
        "    # Learning rate and momentum\n",
        "    # The Mask RCNN paper uses lr=0.02, but on TensorFlow it causes\n",
        "    # weights to explode. Likely due to differences in optimizer\n",
        "    # implementation.\n",
        "    LEARNING_RATE = 0.00005\n",
        "    LEARNING_MOMENTUM = 0.9\n",
        "\n",
        "  # Weight decay regularization\n",
        "    WEIGHT_DECAY = 1e-5 # 0.0001\n",
        "\n",
        "    # Optimizer, default is 'SGD'\n",
        "    OPTIMIZER = 'ADAM'\n",
        "\n",
        "    # Backbone network architecture\n",
        "    # Supported values are: resnet50, resnet101\n",
        "    BACKBONE = \"resnet101\"\n",
        "    \n",
        "    # Input image resizing\n",
        "    IMAGE_RESIZE_MODE = \"pad64\"\n",
        "    IMAGE_MIN_DIM = 812\n",
        "    IMAGE_MAX_DIM = 1280\n",
        "    IMAGE_SHAPE= (832, 1280, 3)\n",
        "    \n",
        "    IMAGE_CHANNEL_COUNT = 3   \n",
        "    \n",
        "    # Length of square anchor side in pixels\n",
        "    RPN_ANCHOR_SCALES = (16, 32, 64, 128, 256)\n",
        "    \n",
        "    # Number of ROIs per image to feed to classifier/mask heads\n",
        "    # The Mask RCNN paper uses 512 but often the RPN doesn't generate\n",
        "    # enough positive proposals to fill this and keep a positive:negative\n",
        "    # ratio of 1:3. You can increase the number of proposals by adjusting\n",
        "    # the RPN NMS threshold.\n",
        "    TRAIN_ROIS_PER_IMAGE = 256\n",
        "\n",
        "    # Maximum number of ground truth instances to use in one image\n",
        "    MAX_GT_INSTANCES = 100\n",
        "\n",
        "    # Max number of final detections per image\n",
        "    DETECTION_MAX_INSTANCES = 200\n",
        "    \n",
        "    \n",
        "    # Use a small epoch since the data is simple\n",
        "    STEPS_PER_EPOCH = 100\n",
        "    # use small validation steps since the epoch is small\n",
        "    VALIDATION_STEPS = 5\n",
        "    \n",
        "    \n",
        "    # Non-max suppression threshold to filter RPN proposals.\n",
        "    # You can increase this during training to generate more propsals.\n",
        "    #RPN_NMS_THRESHOLD = 0.9\n",
        "    RPN_NMS_THRESHOLD=0.95\n",
        "    \n",
        "    # ROIs kept after non-maximum supression (training and inference)\n",
        "    POST_NMS_ROIS_TRAINING = 500\n",
        "    POST_NMS_ROIS_INFERENCE = 1000\n",
        "    \n",
        "    # Image mean (RGB)\n",
        "    MEAN_PIXEL = (126,126,126)\n",
        "        \n",
        "    # If enabled, resizes instance masks to a smaller size to reduce\n",
        "    # memory load. Recommended when using high-resolution images.\n",
        "    USE_MINI_MASK = True\n",
        "    #MINI_MASK_SHAPE = (56, 56)  # (height, width) of the mini-mask\n",
        "    MINI_MASK_SHAPE = (100,100)\n",
        "\n",
        "    # Loss weights for more precise optimization.\n",
        "    # Can be used for R-CNN training setup.\n",
        "    LOSS_WEIGHTS = {\n",
        "        \"rpn_class_loss\": 1.,\n",
        "        \"rpn_bbox_loss\": 1.,\n",
        "        \"mrcnn_class_loss\": 1.,\n",
        "        \"mrcnn_bbox_loss\": 1.,\n",
        "        \"mrcnn_mask_loss\": 1.\n",
        "    }\n",
        "\n",
        "#####################################################\n",
        "#         Dataset\n",
        "#####################################################\n",
        "class CellDataset(utils.Dataset):\n",
        "    \n",
        "    def Image_gen(self, FileName):\n",
        "        self.frame=0\n",
        "        self.ImgeFile=FileName\n",
        "        tif=TIFF.open(FileName)\n",
        "        for Image_gened in tif.iter_images():\n",
        "        #Image = imread(FileName,1)\n",
        "            self.frame+=1\n",
        "            yield Image_gened  \n",
        "    \n",
        "    def Image_getFrame(self, Image_dir, Frame):\n",
        "        #if self.ImgeFile!=Image_dir or self.frame > Frame:\n",
        "        Image_gen=self.Image_gen(Image_dir)\n",
        "        self.frame=0\n",
        "        im_getFrame=[]\n",
        "        while self.frame<Frame:\n",
        "            im_getFrame= next(Image_gen)\n",
        "        im_getFrame=np.array(im_getFrame)\n",
        "        return im_getFrame\n",
        "            \n",
        "    def load_cells(self, dataset_dir, subset):\n",
        "        \"\"\"\n",
        "        Load a subset of the cell dataset.\n",
        "        dataset_dir: Root directory of the dataset\n",
        "        subset: Subset to load. \n",
        "                * train: training data excluding validation images\n",
        "                * val: validation images from VAL_IMAGE_IDS\n",
        "        \"\"\"\n",
        "\n",
        "        # Add classes. We have one class.\n",
        "        # Naming the dataset Cells, and the 1st class RedBloodCell\n",
        "        self.add_class(\"Cells\", 1, \"RBC\")\n",
        "        ROOT_PATH=os.path.dirname(os.getcwd())\n",
        "        dataset_dir=os.path.join(ROOT_PATH,\"Data\",dataset_dir)\n",
        "       # Train or validation dataset?\n",
        "        assert subset in [\"train\", \"val\", \"pred\"]\n",
        "        if subset == \"val\":\n",
        "            image_ids = VAL_IMAGE_IDS\n",
        "       # Get image ids from directory names\n",
        "        elif subset == \"train\":\n",
        "            image_ids = list(set(Data_IDS) - set(VAL_IMAGE_IDS))\n",
        "        elif subset == \"pred\": \n",
        "            image_ids = Data_IDS\n",
        "\n",
        "        # Add images\n",
        "        for image_id in image_ids:\n",
        "            self.add_image(\n",
        "                \"Cells\",\n",
        "                image_id=image_id,\n",
        "                path=dataset_dir)\n",
        "                  \n",
        "    def load_image (self,image_id, image_dir=None):\n",
        "        \"\"\"Load the specified image and return a [H,W,3] Numpy array.\n",
        "        \"\"\"\n",
        "        # Load image\n",
        "        info = self.image_info[image_id]\n",
        "        dataset_dir=info['path']\n",
        "        data=xlrd.open_workbook(os.path.join(dataset_dir,'cellLabel.xlsx'))\n",
        "        data=data.sheets()[0]\n",
        "        if not image_dir:\n",
        "          Image_dir=os.path.join(os.path.dirname(os.getcwd()),data.col_values(0)[1])\n",
        "          image=self.Image_getFrame(Image_dir, info['id'])\n",
        "          # If grayscale. Convert to RGB for consistency.\n",
        "          image=(image/np.max(image)*255).astype(np.float16)\n",
        "          if image.ndim != 3:\n",
        "            image = skimage.color.gray2rgb(image)\n",
        "          # If has an alpha channel, remove it for consistency\n",
        "          if image.shape[-1] == 4:\n",
        "            image = image[..., :3]\n",
        "        else:\n",
        "          Image_dir=image_dir\n",
        "          image=self.Image_getFrame(Image_dir, info['id'])\n",
        "        return image\n",
        "        \n",
        "    def load_mask(self, image_id):\n",
        "        \"\"\"Generate instance masks for an image.\n",
        "       Returns:\n",
        "        masks: A bool array of shape [height, width, instance count] with\n",
        "            one mask per instance.\n",
        "        class_ids: a 1D array of class IDs of the instance masks.\n",
        "        \"\"\"\n",
        "        info = self.image_info[image_id]\n",
        "        dataset_dir=info['path']\n",
        "        data=xlrd.open_workbook(os.path.join(dataset_dir,'cellLabel.xlsx'))\n",
        "        data=data.sheets()[0]\n",
        "        Frame=data.col_values(1)[1:]\n",
        "        ClassName=data.col_values(2)[1:]\n",
        "        \n",
        "        MaskNum=data.col_values(4)[1:]\n",
        "        ImgMask = [(Class,ImgMask) for [Class,ImgMask,frame] in zip(ClassName, MaskNum,Frame) if frame==info['id']]\n",
        "        # Read mask files from .tif image\n",
        "        Mask=[]\n",
        "        ClassID=[]\n",
        "        for i,Img in enumerate(ImgMask):\n",
        "            # Get mask directory from image path\n",
        "            mask_dir = os.path.join(info['path'], \"{}.tif\".format(Img[1]))\n",
        "            #ID=[name['id'] for name in (self.class_info) if name.get('name')==Img[0]]\n",
        "            ID=1\n",
        "            im = cv2.imread(mask_dir,0).astype(np.bool)\n",
        "            Mask.append(im)\n",
        "            ClassID.append(ID)\n",
        "        Mask = np.stack(Mask, axis=-1)\n",
        "        ClassID= np.squeeze(np.array(ClassID))\n",
        "        return Mask,ClassID\n",
        "    \n",
        "    def image_reference(self, image_id):\n",
        "        \"\"\"Return the path of the image.\"\"\"\n",
        "        info = self.image_info[image_id]\n",
        "        if info[\"source\"] == \"cells\":\n",
        "            return info[\"id\"]\n",
        "        else:\n",
        "            super(self.__class__, self).image_reference(image_id)\n",
        "\n",
        "############################################################\n",
        "#  Training\n",
        "############################################################\n",
        "\n",
        "def train(model, dataset_dir, subset):\n",
        "    \"\"\"Train the model.\"\"\"\n",
        "    # Training dataset.\n",
        "    dataset_train = CellDataset()\n",
        "    dataset_train.load_cells(dataset_dir,\"train\")\n",
        "    dataset_train.prepare()\n",
        "\n",
        "    # Validation dataset\n",
        "    dataset_val = CellDataset()\n",
        "    dataset_val.load_cells(dataset_dir, \"val\")\n",
        "    dataset_val.prepare()\n",
        "    \n",
        "    # Image augmentation\n",
        "    # http://imgaug.readthedocs.io/en/latest/source/augmenters.html\n",
        "    augmentation = iaa.SomeOf((0, 2), [\n",
        "        iaa.Fliplr(0.5),\n",
        "        iaa.Flipud(0.5),\n",
        "        iaa.OneOf([iaa.Affine(rotate=90),\n",
        "                   iaa.Affine(rotate=180),\n",
        "                   iaa.Affine(rotate=270)]),\n",
        "        iaa.Multiply((0.8, 1.5)),\n",
        "        iaa.GaussianBlur(sigma=(0.0, 5.0))\n",
        "    ])\n",
        "\n",
        "    # If starting from imagenet, train heads only for a bit\n",
        "    # since they have random weights\n",
        "    model.train(dataset_train, dataset_val,\n",
        "                learning_rate=config.LEARNING_RATE,\n",
        "                augmentation=augmentation,\n",
        "                epochs=25,\n",
        "                layers='4+')\n",
        "    '''\n",
        "    print(\"Train all layers\")\n",
        "    model.train(dataset_train, dataset_val,\n",
        "                learning_rate=config.LEARNING_RATE,\n",
        "                epochs=40,\n",
        "                augmentation=augmentation,\n",
        "                layers='all')\n",
        "    '''"
      ],
      "execution_count": 4,
      "outputs": [
        {
          "output_type": "stream",
          "text": [
            "Using TensorFlow backend.\n"
          ],
          "name": "stderr"
        }
      ]
    },
    {
      "cell_type": "code",
      "metadata": {
        "ExecuteTime": {
          "end_time": "2020-04-15T21:22:53.550849Z",
          "start_time": "2020-04-15T21:09:22.980050Z"
        },
        "scrolled": false,
        "id": "k34r7pTduStF",
        "colab_type": "code",
        "colab": {}
      },
      "source": [
        "# Training step\n",
        "if __name__ == '__main__':\n",
        "    os.environ['CUDA_VISIBLE_DEVICES'] = \"1\"\n",
        "    config = CellCountConfig()\n",
        "    #config.display()\n",
        "\n",
        "    # Create model\n",
        "    model = modellib.MaskRCNN(mode=\"training\", config=config, model_dir=RESULTS_DIR)\n",
        "\n",
        "    #Load COCO weights\n",
        "    COCO_WEIGHTS_PATH = os.path.join(os.path.dirname(ROOT_DIR), \"mask_rcnn_coco.h5\")\n",
        "    weights_path= COCO_WEIGHTS_PATH\n",
        "    #weights_path = model.get_imagenet_weights()\n",
        "    # Load weights\n",
        "    model.load_weights(weights_path, by_name=True,\n",
        "                       exclude=[\"mrcnn_class_logits\", \"mrcnn_bbox_fc\", \n",
        "                                \"mrcnn_bbox\", \"mrcnn_mask\"])\n",
        "    #model.load_weights(weights_path, by_name=True)\n",
        "    train(model=model, dataset_dir='val', subset='train')"
      ],
      "execution_count": 0,
      "outputs": []
    },
    {
      "cell_type": "code",
      "metadata": {
        "ExecuteTime": {
          "end_time": "2020-04-15T21:26:24.856692Z",
          "start_time": "2020-04-15T21:26:11.833656Z"
        },
        "id": "bilW9MHiuStK",
        "colab_type": "code",
        "outputId": "eb46da38-6bcd-44d0-8fe9-2ebfc35a09c4",
        "colab": {
          "base_uri": "https://localhost:8080/",
          "height": 35
        }
      },
      "source": [
        "############################################################\n",
        "#  Detection\n",
        "############################################################\n",
        "os.environ['CUDA_VISIBLE_DEVICES'] = \"1\"\n",
        "config = CellCountConfig()\n",
        "\n",
        "#Create Model\n",
        "model = modellib.MaskRCNN(mode=\"inference\", config=config, model_dir=RESULTS_DIR)\n",
        "\n",
        "#Load weights\n",
        "weights_path= \"results/cellcount/cellcount20200425T2106/mask_rcnn_cellcount_0021.h5\" # loading our trained model\n",
        "# Load weights\n",
        "model.load_weights(weights_path, by_name=True)"
      ],
      "execution_count": 5,
      "outputs": [
        {
          "output_type": "stream",
          "text": [
            "Re-starting from epoch 21\n"
          ],
          "name": "stdout"
        }
      ]
    },
    {
      "cell_type": "code",
      "metadata": {
        "id": "PEhdMAn3usKt",
        "colab_type": "code",
        "colab": {}
      },
      "source": [
        "def compute_Dice(s1,s2):\n",
        "  p = np.argwhere(s2 > 0)\n",
        "  s2_n = np.zeros_like(s2)\n",
        "  s2_n[p] = 1 # one of the cell masks in the last frame\n",
        "  row, col = s2.shape[0], s2.shape[1]\n",
        "  # s1: selected cell mask in the current frame\n",
        "  s = []\n",
        "  for r in range(row):\n",
        "    for c in range(col):\n",
        "      if s1[r][c] == s2_n[r][c]:\n",
        "        s.append(s1[r][c])\n",
        "  m1 = np.linalg.norm(s)\n",
        "  m2 = np.linalg.norm(s1.flatten()) + np.linalg.norm(s2_n.flatten())\n",
        "  d = 2*m1/m2\n",
        "  return d"
      ],
      "execution_count": 0,
      "outputs": []
    },
    {
      "cell_type": "code",
      "metadata": {
        "id": "CZz_4gSO2kwl",
        "colab_type": "code",
        "colab": {}
      },
      "source": [
        "# the coordinates of the selected ROI generated from 'stabilization.ipynb'\n",
        "cor_box = np.zeros((5,2))\n",
        "cor_box[0,0], cor_box[0,1] = 530, 417\n",
        "cor_box[1,0], cor_box[1,1] = 573, 398\n",
        "cor_box[2,0], cor_box[2,1] = 491, 214\n",
        "cor_box[3,0], cor_box[3,1] = 448, 233\n",
        "cor_box[4,0], cor_box[4,1] = 530, 417\n",
        "cor_box = cor_box[np.newaxis,:,:]"
      ],
      "execution_count": 0,
      "outputs": []
    },
    {
      "cell_type": "code",
      "metadata": {
        "scrolled": true,
        "id": "yiP0zBJwuSte",
        "colab_type": "code",
        "colab": {
          "base_uri": "https://localhost:8080/",
          "height": 439
        },
        "outputId": "4d79b2e1-5afa-4dd9-b5fb-63484a65363b"
      },
      "source": [
        "# Read dataset\n",
        "dataset = CellDataset()\n",
        "dataset.load_cells('val', 'pred')\n",
        "dataset.prepare()\n",
        "im_dir='../stab_val.tif' # test data\n",
        "import matplotlib\n",
        "%matplotlib inline\n",
        "is_ipython = 'inline' in matplotlib.get_backend()\n",
        "if is_ipython:\n",
        "  from IPython import display\n",
        "\n",
        "GT_no=[]\n",
        "DE_no=[]\n",
        "tracking_list = []\n",
        "cellCount_list = []\n",
        "ACCU = []\n",
        "for image_id in range(0,100):\n",
        "  image = dataset.load_image(image_id, image_dir=im_dir)\n",
        "  mask,class_id = dataset.load_mask(image_id)\n",
        "  #image =dataset.Image_getFrame(im_dir,image_id)\n",
        "  if image.ndim != 3:\n",
        "    image = skimage.color.gray2rgb(image)\n",
        "  # If has an alpha channel, remove it for consistency\n",
        "  if image.shape[-1] == 4:\n",
        "    image = image[..., :3]\n",
        "  #image=(image/np.max(image)*255).astype(np.float16)\n",
        "  # Detect objects\n",
        "  r = model.detect([image], verbose=0)[0]\n",
        "  # Encode image to RLE. Returns a string of multiple lines\n",
        "  source_id = dataset.image_info[image_id][\"id\"]\n",
        "  #rle = mask_to_rle(source_id, r[\"masks\"], r[\"scores\"])\n",
        "  #submission.append(rle)\n",
        "  GT_no.append(np.size(mask,2))\n",
        "  DE_no.append(len(r['class_ids']))\n",
        "  #print('--------------------------------')\n",
        "  #print('image_id: ', image_id)\n",
        "  #print('Frame ID =', dataset.image_info[image_id][\"id\"])\n",
        "  #print('Ground Truth Cell Number = ', GT_no[-1])\n",
        "  #print('Detected Cell Number =', DE_no[-1])\n",
        "  #bg=np.zeros(np.shape(image))\n",
        "  #plt.plot(cor_boxN[:,0],cor_boxN[:,1],color='red')\n",
        "  if is_ipython:\n",
        "    display.clear_output(wait=True)\n",
        "    display.display(plt.gcf())\n",
        "  cellCount, centroids, cell_idx, Contours = visualize.display_instances(\n",
        "      image, r['rois'], r['masks'], r['class_ids'],\n",
        "      dataset.class_names, r['scores'],\n",
        "      captions=[cp for cp in range(1,DE_no[-1]+1)], show_bbox=False, show_mask=True, cellcount=True, countbox=cor_box, \n",
        "      figsize=(8, 8), title=\"Predictions\")\n",
        "\n",
        "  cellCount_list.append(cellCount)\n",
        "\n",
        "  N = r['rois'].shape[0]\n",
        "  ovl = 0\n",
        "  if image_id == 0:\n",
        "    centroids_o = [centroids[c] for c in cell_idx]\n",
        "    masks_o = np.array([r['masks'][:,:,c] for c in cell_idx])\n",
        "  elif image_id > 0:\n",
        "    for n in cell_idx:\n",
        "      mask_n = r['masks'][:,:,n]\n",
        "      mmap = np.argwhere(mask_n > 0)\n",
        "      mask_pre = np.zeros_like(mask_n)\n",
        "      dice_list = []\n",
        "      for n_o in range(len(centroids_o)):\n",
        "        delta = centroids[n] - centroids_o[n_o]\n",
        "        mmap_pre = mmap - np.int64(delta)\n",
        "        mask_pre[mmap_pre] = 1\n",
        "        dice = compute_Dice(mask_pre, masks_o[n_o,:,:])\n",
        "        if dice > 0.7:\n",
        "          dice_list.append(dice)\n",
        "        if len(dice_list) >= 1:\n",
        "          ovl += 1\n",
        "          break\n",
        "    centroids_o = [centroids[c] for c in cell_idx]\n",
        "    masks_o = np.array([r['masks'][:,:,c] for c in cell_idx])\n",
        "\n",
        "  if image_id == 0:\n",
        "    accu_o = cellCount-ovl\n",
        "    ACCU.append(accu_o)\n",
        "  else:\n",
        "    accu = cellCount-ovl\n",
        "    accu_n = accu+accu_o\n",
        "    ACCU.append(accu_n)\n",
        "    accu_o = accu_n\n",
        "  print('Frame ID ', image_id+1)\n",
        "  print('Counted Cell Number =', cellCount), print('Double Counting Number =', ovl)\n",
        "  print('Accumulative Cell Number =', ACCU[image_id])\n",
        "  tracking_list.append([image_id,ovl])"
      ],
      "execution_count": 10,
      "outputs": [
        {
          "output_type": "display_data",
          "data": {
            "text/plain": [
              "<Figure size 432x288 with 0 Axes>"
            ]
          },
          "metadata": {
            "tags": []
          }
        },
        {
          "output_type": "display_data",
          "data": {
            "text/plain": [
              "<Figure size 432x288 with 0 Axes>"
            ]
          },
          "metadata": {
            "tags": []
          }
        },
        {
          "output_type": "display_data",
          "data": {
            "image/png": "[encoded data removed]",
            "text/plain": [
              "<Figure size 576x576 with 1 Axes>"
            ]
          },
          "metadata": {
            "tags": [],
            "needs_background": "light"
          }
        },
        {
          "output_type": "stream",
          "text": [
            "Frame ID  100\n",
            "Counted Cell Number = 2\n",
            "Double Counting Number = 2\n",
            "Accumulative Cell Number = 52\n"
          ],
          "name": "stdout"
        }
      ]
    },
    {
      "cell_type": "code",
      "metadata": {
        "id": "tdBpd-gt7AEE",
        "colab_type": "code",
        "colab": {
          "base_uri": "https://localhost:8080/",
          "height": 313
        },
        "outputId": "2934c8f2-1d20-4eb7-955c-80167be34e63"
      },
      "source": [
        "plt.title('Cell Detection Results (Testing Set)')\n",
        " \n",
        "plt.plot(GT_no, label='Ground Truth')\n",
        "plt.plot(DE_no, label='Model Detection')\n",
        "plt.legend()\n",
        " \n",
        "plt.xlabel('Frame ID')\n",
        "plt.ylabel('Cell Number')\n"
      ],
      "execution_count": 57,
      "outputs": [
        {
          "output_type": "execute_result",
          "data": {
            "text/plain": [
              "Text(0, 0.5, 'Cell Number')"
            ]
          },
          "metadata": {
            "tags": []
          },
          "execution_count": 57
        },
        {
          "output_type": "display_data",
          "data": {
            "image/png": "[encoded data removed]",
            "text/plain": [
              "<Figure size 432x288 with 1 Axes>"
            ]
          },
          "metadata": {
            "tags": [],
            "needs_background": "light"
          }
        }
      ]
    },
    {
      "cell_type": "code",
      "metadata": {
        "id": "XDAPaRzCaVuN",
        "colab_type": "code",
        "colab": {}
      },
      "source": [
        "ACCU[49],ACCU[99] # show the accumulative cell number"
      ],
      "execution_count": 0,
      "outputs": []
    }
  ]
}